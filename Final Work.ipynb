{
 "cells": [
  {
   "cell_type": "code",
   "execution_count": 143,
   "metadata": {},
   "outputs": [],
   "source": [
    "#Import packages we need\n",
    "import pandas as pd\n",
    "import numpy as np\n",
    "import matplotlib.pyplot as plt\n",
    "from sklearn.pipeline import Pipeline\n",
    "from sklearn.preprocessing import StandardScaler, OneHotEncoder, OrdinalEncoder, LabelEncoder\n",
    "from sklearn.model_selection import train_test_split, learning_curve, cross_validate, GridSearchCV\n",
    "from sklearn.linear_model import LogisticRegression\n",
    "from sklearn.compose import ColumnTransformer\n",
    "from sklearn.metrics import accuracy_score, confusion_matrix, precision_score, recall_score, f1_score\n",
    "from xgboost import XGBClassifier\n",
    "from sklearn.svm import SVC\n",
    "from sklearn.ensemble import VotingClassifier, RandomForestClassifier, AdaBoostClassifier, GradientBoostingClassifier\n",
    "from sklearn.cluster import KMeans\n",
    "\n",
    "#Ignore warnings\n",
    "pd.options.mode.chained_assignment = None\n",
    "import warnings\n",
    "warnings.filterwarnings('ignore')"
   ]
  },
  {
   "cell_type": "code",
   "execution_count": 203,
   "metadata": {},
   "outputs": [],
   "source": [
    "#Fill in NA values for Age Column, based on Suffix\n",
    "def fillin_age(df, dic):\n",
    "    df.Age = df.Age.fillna(df.Suffix.map(dic))"
   ]
  },
  {
   "cell_type": "code",
   "execution_count": 235,
   "metadata": {},
   "outputs": [],
   "source": [
    "#Data preparation Function\n",
    "def prepare_data(X):\n",
    "    #Fill in NA values for Age, based on Suffix\n",
    "    \n",
    "    X['Suffix']= X['Name'].str.findall(r'Miss|Mr|Mrs|Master')\n",
    "    X['Suffix'] = X['Suffix'].apply(lambda x: x[0] if len(x)!=0 else np.NaN)\n",
    "    suffix_age_dict = X.groupby(['Suffix'])['Age'].median().to_dict()\n",
    "    suffix_age_dict['Normal'] = X['Age'].median()\n",
    "    X['Age_null'] = X['Age'].isnull()\n",
    "    X['Suffix'] = X['Suffix'].fillna('Normal')\n",
    "    fillin_age(X, suffix_age_dict)\n",
    "\n"
    "    X = X.drop(['Name','Age_null', 'Suffix'], axis = 1)\n",
    "    \n",
    "    #Fill in NA values for Embarked\n",
    "    X['Embarked'] = X['Embarked'].fillna('S')\n",
    "    \n",
    "    #Extract Cabin info\n",
    "    cabin = X[~X['Cabin'].isnull()]['Cabin'].apply(lambda x:x.split(' '))\n",
    "    cabin = cabin.apply(lambda x: x[0][0])\n",
    "    X['Cabin'] = cabin\n",
    "    X['Cabin'] = X['Cabin'].fillna('M')\n",
    "    X['Cabin'] = X['Cabin'].replace({'A':0,'B':0,'C':0,'D':1,'E':1,'F':2,'G':2,'T':0,'M':3})\n",
    "    \n",
    "    #Age & Class & Sex\n",
    "    X['1woman'] = ((X['Pclass'] == 1) & (X['Sex'] == 'female')).astype(np.int)\n",
    "    X['is_third_class'] = (X['Pclass'] == 3).astype(np.int)\n",
    "    X['Age_classes'] = X['Age'] * X['Pclass']\n",
    "    X['Sex_'] = X['Sex'].replace({'female':2,'male':1})\n",
    "    X['Sex_class'] = X['Sex_'] / X['Pclass']\n",
    "    X = X.drop('Sex_', axis = 1)\n",
    "    \n",
    "    \n",
    "    #Add a column indicate whether Embarked == 'S'\n",
    "    X['S'] = (X['Embarked'] == 'S').astype(np.int)\n",
    "    X = X.drop('Embarked', axis = 1)\n",
    "    \n",
    "    #Add a feature for family size\n",
    "    X['FamilySize'] = X['SibSp'] + X['Parch'] + 1\n",
    "    \n",
    "    #Add a feature for whether the person is alone on the Titanic or not \n",
    "    X['IsAlone'] = 1 \n",
    "    X['IsAlone'].loc[X['FamilySize'] > 1] = 0 \n",
    "    \n",
    "\n",
    "    #Create Column Transformer Pipeline\n",
    "    pl = ColumnTransformer([('1hot', OneHotEncoder(), ['Sex']),\n",
    "                            ('scaler', StandardScaler(), ['Fare','Age'])], \n",
    "                           remainder ='passthrough')\n",
    "    X_prepared = pl.fit_transform(X)\n",
    "    return X_prepared"
   ]
  },
  {
   "cell_type": "code",
   "execution_count": 236,
   "metadata": {},
   "outputs": [],
   "source": [
    "#Draw learning curve\n",
    "def plot_learning_curve(estimator, title, X, y, ylim=None, cv=None, train_sizes=np.linspace(0.1, 1, 5)):\n",
    "    plt.figure()\n",
    "    train_sizes, train_scores, test_scores = learning_curve(\n",
    "        estimator, X, y, cv=5,n_jobs = 1, train_sizes=train_sizes) \n",
    "    \n",
    "    train_scores_mean = np.mean(train_scores, axis = 1)\n",
    "    train_scores_std = np.std(train_scores, axis = 1)\n",
    "    test_scores_mean = np.mean(test_scores, axis = 1)\n",
    "    test_scores_std = np.std(test_scores, axis = 1)\n",
    "\n",
    "    plt.fill_between(train_sizes, train_scores_mean - train_scores_std, \n",
    "                        train_scores_mean + train_scores_std, alpha = 0.1, color = 'r')\n",
    "    plt.fill_between(train_sizes, test_scores_mean - test_scores_std,\n",
    "                        test_scores_mean + test_scores_std, alpha = 0.1, color = 'g')\n",
    "    \n",
    "    plt.plot(train_sizes, train_scores_mean, 'o-', color = 'r', label = 'Training score')\n",
    "    plt.plot(train_sizes, test_scores_mean, 'o-', color = 'g', label = 'Cross-validation score')\n",
    "    \n",
    "    plt.xlabel('Training examples')\n",
    "    plt.ylabel('Score')\n",
    "    plt.legend(loc = 'best')\n",
    "    plt.grid('on')\n",
    "    if ylim:\n",
    "        plt.ylim(ylim)\n",
    "    plt.title(title)\n",
    "    plt.show()"
   ]
  },
  {
   "cell_type": "code",
   "execution_count": 237,
   "metadata": {},
   "outputs": [],
   "source": [
    "#Read datasets\n",
    "train = pd.read_csv('train.csv')\n",
    "#train, test = train_test_split(train, test_size = 0.2, random_state = 0)\n",
    "train_ = train.copy()\n",
    "\n",
    "X = train_[['Pclass', 'Sex', 'Age', 'SibSp', 'Parch', 'Fare','Name', 'Embarked', 'Cabin']]\n",
    "y = train_[['Survived']]"
   ]
  },
  {
   "cell_type": "code",
   "execution_count": 238,
   "metadata": {},
   "outputs": [
    {
     "data": {
      "text/plain": [
       "Pipeline(steps=[('voting_clf',\n",
       "                 VotingClassifier(estimators=[('XGB', XGBClassifier()),\n",
       "                                              ('log_reg', LogisticRegression()),\n",
       "                                              ('gra_clf',\n",
       "                                               GradientBoostingClassifier()),\n",
       "                                              ('Random Forest',\n",
       "                                               RandomForestClassifier(n_estimators=400))]))])"
      ]
     },
     "execution_count": 238,
     "metadata": {},
     "output_type": "execute_result"
    }
   ],
   "source": [
    "log_reg = LogisticRegression()\n",
    "XGB = XGBClassifier()\n",
    "gra_clf  = GradientBoostingClassifier()\n",
    "rf_clf = RandomForestClassifier(n_estimators = 400)\n",
    "\n",
    "voting_clf = VotingClassifier(estimators=[('XGB', XGB), ('log_reg', log_reg),('gra_clf', gra_clf),\n",
    "                                          ('Random Forest', rf_clf)],\n",
    "                              voting='hard')\n",
    "\n",
    "#Features and target\n",
    "X_prepared = prepare_data(X)\n",
    "y = y['Survived'].tolist()\n",
    "\n",
    "\n",
    "pipeline = Pipeline(steps = [\n",
    "    ('voting_clf', voting_clf)\n",
    "])\n",
    "#Train model\n",
    "pipeline.fit(X_prepared, y)"
   ]
  },
  {
   "cell_type": "code",
   "execution_count": 239,
   "metadata": {},
   "outputs": [],
   "source": [
    "X_test = test[['Pclass', 'Sex', 'Age', 'SibSp', 'Parch', 'Fare', 'Name', 'Embarked', 'Cabin']]\n",
    "y_test = test[['Survived']]['Survived'].tolist()\n",
    "test_prepared = prepare_data(X_test)\n",
    "#Predict\n",
    "\n",
    "predictions = pipeline.predict(test_prepared)"
   ]
  },
  {
   "cell_type": "code",
   "execution_count": 240,
   "metadata": {},
   "outputs": [
    {
     "name": "stdout",
     "output_type": "stream",
     "text": [
      "XGBClassifier 0.9050279329608939\n",
      "RandomForestClassifier 0.9553072625698324\n",
      "GradientBoostingClassifier 0.888268156424581\n",
      "Pipeline 0.9050279329608939\n"
     ]
    }
   ],
   "source": [
    "for clf in (XGB, rf_clf, gra_clf, pipeline):\n",
    "    clf.fit(X_prepared, y)\n",
    "    y_pred = clf.predict(test_prepared)\n",
    "    print(clf.__class__.__name__, accuracy_score(y_pred, y_test))"
   ]
  },
  {
   "cell_type": "code",
   "execution_count": 241,
   "metadata": {
    "scrolled": false
   },
   "outputs": [
    {
     "name": "stdout",
     "output_type": "stream",
     "text": [
      "Accuracy Score is: 0.9050279329608939\n",
      "Recall Score is: 0.9333333333333333\n",
      "Precision Score is: 0.8115942028985508\n",
      "F1 Score is: 0.8682170542635659\n"
     ]
    },
    {
     "data": {
      "image/png": "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\n",
      "text/plain": [
       "<Figure size 432x288 with 1 Axes>"
      ]
     },
     "metadata": {
      "needs_background": "light"
     },
     "output_type": "display_data"
    }
   ],
   "source": [
    "print(\"Accuracy Score is:\",accuracy_score(predictions, y_test))\n",
    "print(\"Recall Score is:\", recall_score(predictions, y_test))\n",
    "print(\"Precision Score is:\", precision_score(predictions, y_test))\n",
    "print(\"F1 Score is:\", f1_score(predictions, y_test))\n",
    "plot_learning_curve(pipeline, 'Voting Classifier', X_prepared, y, cv = 5)"
   ]
  },
  {
   "cell_type": "markdown",
   "metadata": {},
   "source": [
    "## Predictions"
   ]
  },
  {
   "cell_type": "code",
   "execution_count": 243,
   "metadata": {},
   "outputs": [],
   "source": [
    "test_data = pd.read_csv('test.csv')\n",
    "test_data['Fare'][152] = test_data['Fare'].median()\n",
    "\n",
    "X_test_ = test_data[['Pclass', 'Sex', 'Age', 'SibSp', 'Parch','Fare', 'Name', 'Embarked', 'Cabin']]\n",
    "X_test_prepared_ = prepare_data(X_test_)\n",
    "\n",
    "predictions = XGB.predict(X_test_prepared_)\n",
    "result = pd.DataFrame({'PassengerId':test_data.PassengerId.tolist(), \n",
    "                       'Survived':XGB.predict(X_test_prepared_).tolist()})"
   ]
  },
  {
   "cell_type": "code",
   "execution_count": 244,
   "metadata": {},
   "outputs": [],
   "source": [
    "result.to_csv('result15.csv',index = False)"
   ]
  }
 ],
 "metadata": {
  "kernelspec": {
   "display_name": "Python 3",
   "language": "python",
   "name": "python3"
  },
  "language_info": {
   "codemirror_mode": {
    "name": "ipython",
    "version": 3
   },
   "file_extension": ".py",
   "mimetype": "text/x-python",
   "name": "python",
   "nbconvert_exporter": "python",
   "pygments_lexer": "ipython3",
   "version": "3.7.4"
  }
 },
 "nbformat": 4,
 "nbformat_minor": 2
}
