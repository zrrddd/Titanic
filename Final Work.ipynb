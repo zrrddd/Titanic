{
 "cells": [
  {
   "cell_type": "code",
   "execution_count": 253,
   "metadata": {},
   "outputs": [],
   "source": [
    "import pandas as pd\n",
    "import numpy as np\n",
    "from sklearn.pipeline import Pipeline\n",
    "from sklearn.preprocessing import StandardScaler\n",
    "from sklearn.preprocessing import OneHotEncoder\n",
    "from sklearn.preprocessing import OrdinalEncoder\n",
    "from sklearn.model_selection import train_test_split\n",
    "from sklearn.linear_model import LogisticRegression\n",
    "import matplotlib.pyplot as plt\n",
    "from sklearn.compose import ColumnTransformer\n",
    "from sklearn.metrics import accuracy_score, confusion_matrix, precision_score, recall_score, f1_score\n",
    "from sklearn.preprocessing import LabelEncoder\n",
    "from sklearn.neighbors import KNeighborsClassifier\n",
    "from xgboost import XGBClassifier"
   ]
  },
  {
   "cell_type": "code",
   "execution_count": 254,
   "metadata": {},
   "outputs": [],
   "source": [
    "pd.options.mode.chained_assignment = None\n",
    "import warnings\n",
    "warnings.filterwarnings('ignore')"
   ]
  },
  {
   "cell_type": "code",
   "execution_count": 255,
   "metadata": {},
   "outputs": [],
   "source": [
    "train = pd.read_csv('train.csv')\n",
    "train, test = train_test_split(train, test_size = 0.2)\n",
    "train_ = train.copy()\n",
    "\n",
    "X = train_[['Pclass', 'Sex', 'Age', 'SibSp', 'Parch', 'Fare','Name', 'Embarked']]\n",
    "y = train_[['Survived']]"
   ]
  },
  {
   "cell_type": "code",
   "execution_count": 256,
   "metadata": {},
   "outputs": [],
   "source": [
    "#Fill in NA values for Age Column, based on Suffix\n",
    "def fillin_age(df, dic):\n",
    "    df.Age = df.Age.fillna(df.Suffix.map(dic))"
   ]
  },
  {
   "cell_type": "code",
   "execution_count": 257,
   "metadata": {},
   "outputs": [],
   "source": [
    "#Data preparation Function\n",
    "def prepare_data(X):\n",
    "    #Fill in NA values for Age, based on Suffix\n",
    "    X['Suffix']= X['Name'].str.findall(r'Miss\\.|Mr\\.|Mrs\\.|Master\\.|')\n",
    "    X['Suffix'] = X['Suffix'].apply(lambda x: x[0] if len(x)!=0 else np.NaN)\n",
    "    suffix_age_dict = X.groupby(['Suffix'])['Age'].median().to_dict()\n",
    "    suffix_age_dict['Normal'] = X['Age'].median()\n",
    "    X['Age_null'] = X['Age'].isnull()\n",
    "    X['Suffix'] = X['Suffix'].fillna('Normal')\n",
    "    fillin_age(X, suffix_age_dict)\n",
    "    X = X.drop(['Name', 'Suffix', 'Age_null'], axis = 1)\n",
    "    \n",
    "    #Fill in NA values for Embarked\n",
    "    X['Embarked'] = X['Embarked'].fillna('S')\n",
    "    #Add a column indicate whether Embarked == 'S'\n",
    "    X['S'] = (X['Embarked'] == 'S').astype(np.int)\n",
    "    X = X.drop('Embarked', axis = 1)\n",
    "    \n",
    "    #Add a feature for family size\n",
    "    X['FamilySize'] = X['SibSp'] + X['Parch'] + 1\n",
    "    \n",
    "    #Add a feature for whether the person is alone on the Titanic or not \n",
    "    X['IsAlone'] = 1 \n",
    "    X['IsAlone'].loc[X['FamilySize'] > 1] = 0 \n",
    "    \n",
    "    #Add a feature for class 1 female\n",
    "    X.loc[:, '1female'] = ((X['Sex'] == 'female') & (X['Pclass'] == 1)).astype(np.int)\n",
    "    \n",
    "    #Add a feature for class 3 male\n",
    "    X.loc[:, '3male'] = ((X['Sex'] == 'male') & (X['Pclass'] == 3)).astype(np.int)\n",
    "    \n",
    "    #Add a feature for class1,2 mother\n",
    "    X['mother'] = ((X['Parch'] >= 1) & (X['Sex'] == 'female') & (X['Age'] >= 18) & (X['Pclass'] != 3)).astype(np.int)\n",
    "    \n",
    "    #Create Column Transformer Pipeline\n",
    "    pl = ColumnTransformer([('1hot', OneHotEncoder(), ['Sex']),('scaler', StandardScaler(), ['Fare'])], \n",
    "                           remainder ='passthrough')\n",
    "    X_prepared = pl.fit_transform(X)\n",
    "    return X_prepared"
   ]
  },
  {
   "cell_type": "code",
   "execution_count": 258,
   "metadata": {},
   "outputs": [],
   "source": [
    "X_prepared = prepare_data(X)"
   ]
  },
  {
   "cell_type": "code",
   "execution_count": 259,
   "metadata": {},
   "outputs": [
    {
     "data": {
      "text/plain": [
       "XGBClassifier()"
      ]
     },
     "execution_count": 259,
     "metadata": {},
     "output_type": "execute_result"
    }
   ],
   "source": [
    "# log_reg = LogisticRegression(C = 0.1,tol = 1e-6)\n",
    "log_reg = XGBClassifier()\n",
    "y = y['Survived'].tolist()\n",
    "\n",
    "log_reg.fit(X_prepared, y)"
   ]
  },
  {
   "cell_type": "code",
   "execution_count": 260,
   "metadata": {},
   "outputs": [],
   "source": [
    "X_test = test[['Pclass', 'Sex', 'Age', 'SibSp', 'Parch', 'Fare', 'Name', 'Embarked']]\n",
    "y_test = test[['Survived']]['Survived'].tolist()\n",
    "\n",
    "test_prepared = prepare_data(X_test)"
   ]
  },
  {
   "cell_type": "code",
   "execution_count": 261,
   "metadata": {},
   "outputs": [],
   "source": [
    "predictions = log_reg.predict(test_prepared)"
   ]
  },
  {
   "cell_type": "code",
   "execution_count": 262,
   "metadata": {},
   "outputs": [
    {
     "data": {
      "text/plain": [
       "0.8156424581005587"
      ]
     },
     "execution_count": 262,
     "metadata": {},
     "output_type": "execute_result"
    }
   ],
   "source": [
    "accuracy_score(predictions, y_test)"
   ]
  },
  {
   "cell_type": "code",
   "execution_count": 263,
   "metadata": {},
   "outputs": [
    {
     "data": {
      "text/plain": [
       "array([[101,  25],\n",
       "       [  8,  45]])"
      ]
     },
     "execution_count": 263,
     "metadata": {},
     "output_type": "execute_result"
    }
   ],
   "source": [
    "confusion_matrix(predictions, y_test)"
   ]
  },
  {
   "cell_type": "code",
   "execution_count": 264,
   "metadata": {},
   "outputs": [
    {
     "data": {
      "text/plain": [
       "0.8490566037735849"
      ]
     },
     "execution_count": 264,
     "metadata": {},
     "output_type": "execute_result"
    }
   ],
   "source": [
    "recall_score(predictions, y_test)"
   ]
  },
  {
   "cell_type": "code",
   "execution_count": 265,
   "metadata": {},
   "outputs": [
    {
     "data": {
      "text/plain": [
       "0.6428571428571429"
      ]
     },
     "execution_count": 265,
     "metadata": {},
     "output_type": "execute_result"
    }
   ],
   "source": [
    "precision_score(predictions, y_test)"
   ]
  },
  {
   "cell_type": "code",
   "execution_count": 266,
   "metadata": {},
   "outputs": [
    {
     "data": {
      "text/plain": [
       "0.7317073170731708"
      ]
     },
     "execution_count": 266,
     "metadata": {},
     "output_type": "execute_result"
    }
   ],
   "source": [
    "f1_score(predictions, y_test)"
   ]
  },
  {
   "cell_type": "markdown",
   "metadata": {},
   "source": [
    "## Predictions"
   ]
  },
  {
   "cell_type": "code",
   "execution_count": 267,
   "metadata": {},
   "outputs": [],
   "source": [
    "test_data = pd.read_csv('test.csv')\n",
    "test_data['Fare'][152] = test_data['Fare'].median()"
   ]
  },
  {
   "cell_type": "code",
   "execution_count": 268,
   "metadata": {},
   "outputs": [],
   "source": [
    "X_test_ = test_data[['Pclass', 'Sex', 'Age', 'SibSp', 'Parch','Fare', 'Name', 'Embarked']]"
   ]
  },
  {
   "cell_type": "code",
   "execution_count": 269,
   "metadata": {},
   "outputs": [],
   "source": [
    "X_test_prepared_ = prepare_data(X_test_)"
   ]
  },
  {
   "cell_type": "code",
   "execution_count": 270,
   "metadata": {},
   "outputs": [],
   "source": [
    "predictions = log_reg.predict(X_test_prepared_)\n",
    "result = pd.DataFrame({'PassengerId':test_data.PassengerId.tolist(), 'Survived':log_reg.predict(X_test_prepared_).tolist()})"
   ]
  },
  {
   "cell_type": "code",
   "execution_count": 271,
   "metadata": {},
   "outputs": [],
   "source": [
    "result.to_csv('result8.csv',index = False)"
   ]
  }
 ],
 "metadata": {
  "kernelspec": {
   "display_name": "Python 3",
   "language": "python",
   "name": "python3"
  },
  "language_info": {
   "codemirror_mode": {
    "name": "ipython",
    "version": 3
   },
   "file_extension": ".py",
   "mimetype": "text/x-python",
   "name": "python",
   "nbconvert_exporter": "python",
   "pygments_lexer": "ipython3",
   "version": "3.7.4"
  }
 },
 "nbformat": 4,
 "nbformat_minor": 2
}
